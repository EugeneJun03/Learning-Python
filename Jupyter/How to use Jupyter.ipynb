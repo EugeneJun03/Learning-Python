{
 "cells": [
  {
   "attachments": {},
   "cell_type": "markdown",
   "metadata": {},
   "source": [
    "Cell is divind into Code and Markdown\n",
    "1. Code cell: making orders\n",
    "2. Markdown cell: explaining"
   ]
  },
  {
   "attachments": {},
   "cell_type": "markdown",
   "metadata": {},
   "source": [
    "<Title>\n",
    "# title\n",
    "## title\n",
    "### title\n",
    "\n",
    "<List of word>\n",
    "> something you want to say\n",
    "\n",
    "<Count, ordered>\n",
    "1.first\n",
    "2.second\n",
    "3.third\n",
    "\n",
    "<Not ordered>\n",
    "- Peter\n",
    "+ John\n",
    "* Merry"
   ]
  },
  {
   "attachments": {},
   "cell_type": "markdown",
   "metadata": {},
   "source": [
    "<Title>\n",
    "# title\n",
    "## title\n",
    "### title"
   ]
  },
  {
   "attachments": {},
   "cell_type": "markdown",
   "metadata": {},
   "source": [
    "<Title>\n",
    "# Title\n",
    "## Title\n",
    "### Title"
   ]
  },
  {
   "cell_type": "markdown",
   "metadata": {},
   "source": []
  },
  {
   "attachments": {},
   "cell_type": "markdown",
   "metadata": {},
   "source": [
    "<Title>\n",
    "# Title\n",
    "## Title\n",
    "### Title"
   ]
  }
 ],
 "metadata": {
  "kernelspec": {
   "display_name": "Python 3",
   "language": "python",
   "name": "python3"
  },
  "language_info": {
   "name": "python",
   "version": "3.11.0"
  },
  "orig_nbformat": 4,
  "vscode": {
   "interpreter": {
    "hash": "1bfd3aac423cefc22ab2290c2dbf0f348cb746202f975429435086e43653d52a"
   }
  }
 },
 "nbformat": 4,
 "nbformat_minor": 2
}
